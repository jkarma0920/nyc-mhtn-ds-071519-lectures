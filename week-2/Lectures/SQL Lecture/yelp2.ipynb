{
 "cells": [
  {
   "cell_type": "code",
   "execution_count": null,
   "metadata": {},
   "outputs": [],
   "source": [
    "import copy\n",
    "\n",
    "raw_data=[{'id':12345, 'name':'abc', 'rating': 4, 'price': '$$$'}, \n",
    "         {'id':67890, 'name':'def', 'rating': 5, 'price': '$$$$'}]\n",
    "inner_dict = {}\n",
    "outer_list = []\n",
    "for index in range(len(raw_data)):\n",
    "    inner_dict['id'] = raw_data[index]['id']\n",
    "    inner_dict['name'] = raw_data[index]['name']\n",
    "    inner_dict['rating'] = raw_data[index]['rating']\n",
    "    inner_dict['price'] = raw_data[index]['price']                           \n",
    "    outer_list.append(inner_dict.copy())\n",
    "print(outer_list)"
   ]
  },
  {
   "cell_type": "code",
   "execution_count": null,
   "metadata": {},
   "outputs": [],
   "source": [
    "for key in data:\n",
    "    for element in data[key]:\n",
    "        \n",
    "for index in range(len(data[key]):\n",
    "    for key in data:\n",
    "        INSERT data[key][index]\n",
    "    \n",
    "\n",
    "                       \n",
    "        add_business = \"\"\"INSERT INTO businesses\n",
    "                            (id, bname, ratings, price)\n",
    "                            VALUES (%s, %s, %s, %s)\"\"\")\n",
    "        data_business = (ids[i], names[i], ratings[i], prices[i])\n",
    "        # Insert new business\n",
    "        cursor.execute(add_business, data_business)\n",
    "        biz_id = cursor.lastrowid\n",
    "\n",
    "        # Insert new review?\n",
    "        cursor.close()\n",
    "        db.commit() \n",
    "        db.close()"
   ]
  }
 ],
 "metadata": {
  "kernelspec": {
   "display_name": "Python 3",
   "language": "python",
   "name": "python3"
  },
  "language_info": {
   "codemirror_mode": {
    "name": "ipython",
    "version": 3
   },
   "file_extension": ".py",
   "mimetype": "text/x-python",
   "name": "python",
   "nbconvert_exporter": "python",
   "pygments_lexer": "ipython3",
   "version": "3.7.3"
  }
 },
 "nbformat": 4,
 "nbformat_minor": 2
}
