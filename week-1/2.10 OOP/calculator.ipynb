{
 "cells": [
  {
   "cell_type": "code",
   "execution_count": null,
   "metadata": {},
   "outputs": [],
   "source": [
    "import math\n",
    "class Calculator:\n",
    "    def __init__(self,data):\n",
    "        self.data = data\n",
    "        self.update_stats()\n",
    "        \n",
    "    def update_stats(self):\n",
    "        self.length = len(data)\n",
    "        self.mean = self.__calc_mean()\n",
    "        self.variance = self.calc_var()\n",
    "        self.standev = math.sqrt(self.calc_var())\n",
    "        self.median = self.calc_median()\n",
    "\n",
    "        \n",
    "    def __calc_mean(self):\n",
    "        return sum(self.data)/len(self.data)\n",
    "    \n",
    "    def calc_var(self):\n",
    "        return sum(map(lambda x: (x-self.mean)**2, self.data))/(len(self.data)-1)\n",
    "    \n",
    "    def calc_median(self):\n",
    "        sorted_data = sorted(self.data)\n",
    "        if len(self.data) % 2 == 1:\n",
    "            return sorted_data[int((len(self.data)-1)/2)]\n",
    "        else:\n",
    "            return (sorted_data[int(len(self.data)/2)]+sorted_data[int(len(self.data)/2)-1])/2\n",
    "\n",
    "    def add_data(self, list):\n",
    "        self.data.extend(list)\n",
    "        self.update_stats()\n",
    "    \n",
    "    def remove_data(self, position):\n",
    "        self.data.pop(position)\n",
    "        self.update_stats()\n",
    "\n",
    "        \n",
    "calc = Calculator([1,2,3])\n",
    "print('var= ', calc.variance)\n",
    "calc.median\n",
    "calc.add_data([4])\n",
    "\n",
    "calc.remove_data(0)\n",
    "calc.data"
   ]
  }
 ],
 "metadata": {
  "kernelspec": {
   "display_name": "Python 3",
   "language": "python",
   "name": "python3"
  },
  "language_info": {
   "codemirror_mode": {
    "name": "ipython",
    "version": 3
   },
   "file_extension": ".py",
   "mimetype": "text/x-python",
   "name": "python",
   "nbconvert_exporter": "python",
   "pygments_lexer": "ipython3",
   "version": "3.7.3"
  }
 },
 "nbformat": 4,
 "nbformat_minor": 2
}
